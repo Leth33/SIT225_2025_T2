{
  "cells": [
    {
      "cell_type": "code",
      "execution_count": 1,
      "metadata": {
        "colab": {
          "base_uri": "https://localhost:8080/",
          "height": 0
        },
        "id": "qlE4-QGWpTV9",
        "outputId": "849315d8-0b5a-4b19-b503-2225338d6bac"
      },
      "outputs": [
        {
          "output_type": "stream",
          "name": "stdout",
          "text": [
            "224712709 Barbara Calma\n"
          ]
        }
      ],
      "source": [
        "# Fill in student ID and name\n",
        "#\n",
        "student_id = \"224712709\"  # Replace with your actual student ID\n",
        "student_first_last_name = \"Barbara Calma\"  # Replace with your actual name\n",
        "print(student_id, student_first_last_name)"
      ]
    },
    {
      "cell_type": "code",
      "execution_count": 2,
      "metadata": {
        "colab": {
          "base_uri": "https://localhost:8080/",
          "height": 571
        },
        "id": "MrMG6_EupTV-",
        "outputId": "eb5201e8-40ac-4642-c50b-71467090e929"
      },
      "outputs": [
        {
          "output_type": "stream",
          "name": "stdout",
          "text": [
            "Requirement already satisfied: plotly in /usr/local/lib/python3.12/dist-packages (5.24.1)\n",
            "Collecting dash\n",
            "  Downloading dash-3.2.0-py3-none-any.whl.metadata (10 kB)\n",
            "Requirement already satisfied: tenacity>=6.2.0 in /usr/local/lib/python3.12/dist-packages (from plotly) (8.5.0)\n",
            "Requirement already satisfied: packaging in /usr/local/lib/python3.12/dist-packages (from plotly) (25.0)\n",
            "Requirement already satisfied: Flask<3.2,>=1.0.4 in /usr/local/lib/python3.12/dist-packages (from dash) (3.1.2)\n",
            "Requirement already satisfied: Werkzeug<3.2 in /usr/local/lib/python3.12/dist-packages (from dash) (3.1.3)\n",
            "Requirement already satisfied: importlib-metadata in /usr/local/lib/python3.12/dist-packages (from dash) (8.7.0)\n",
            "Requirement already satisfied: typing-extensions>=4.1.1 in /usr/local/lib/python3.12/dist-packages (from dash) (4.15.0)\n",
            "Requirement already satisfied: requests in /usr/local/lib/python3.12/dist-packages (from dash) (2.32.4)\n",
            "Collecting retrying (from dash)\n",
            "  Downloading retrying-1.4.2-py3-none-any.whl.metadata (5.5 kB)\n",
            "Requirement already satisfied: nest-asyncio in /usr/local/lib/python3.12/dist-packages (from dash) (1.6.0)\n",
            "Requirement already satisfied: setuptools in /usr/local/lib/python3.12/dist-packages (from dash) (75.2.0)\n",
            "Requirement already satisfied: blinker>=1.9.0 in /usr/local/lib/python3.12/dist-packages (from Flask<3.2,>=1.0.4->dash) (1.9.0)\n",
            "Requirement already satisfied: click>=8.1.3 in /usr/local/lib/python3.12/dist-packages (from Flask<3.2,>=1.0.4->dash) (8.2.1)\n",
            "Requirement already satisfied: itsdangerous>=2.2.0 in /usr/local/lib/python3.12/dist-packages (from Flask<3.2,>=1.0.4->dash) (2.2.0)\n",
            "Requirement already satisfied: jinja2>=3.1.2 in /usr/local/lib/python3.12/dist-packages (from Flask<3.2,>=1.0.4->dash) (3.1.6)\n",
            "Requirement already satisfied: markupsafe>=2.1.1 in /usr/local/lib/python3.12/dist-packages (from Flask<3.2,>=1.0.4->dash) (3.0.2)\n",
            "Requirement already satisfied: zipp>=3.20 in /usr/local/lib/python3.12/dist-packages (from importlib-metadata->dash) (3.23.0)\n",
            "Requirement already satisfied: charset_normalizer<4,>=2 in /usr/local/lib/python3.12/dist-packages (from requests->dash) (3.4.3)\n",
            "Requirement already satisfied: idna<4,>=2.5 in /usr/local/lib/python3.12/dist-packages (from requests->dash) (3.10)\n",
            "Requirement already satisfied: urllib3<3,>=1.21.1 in /usr/local/lib/python3.12/dist-packages (from requests->dash) (2.5.0)\n",
            "Requirement already satisfied: certifi>=2017.4.17 in /usr/local/lib/python3.12/dist-packages (from requests->dash) (2025.8.3)\n",
            "Downloading dash-3.2.0-py3-none-any.whl (7.9 MB)\n",
            "\u001b[2K   \u001b[90m━━━━━━━━━━━━━━━━━━━━━━━━━━━━━━━━━━━━━━━━\u001b[0m \u001b[32m7.9/7.9 MB\u001b[0m \u001b[31m45.6 MB/s\u001b[0m eta \u001b[36m0:00:00\u001b[0m\n",
            "\u001b[?25hDownloading retrying-1.4.2-py3-none-any.whl (10 kB)\n",
            "Installing collected packages: retrying, dash\n",
            "Successfully installed dash-3.2.0 retrying-1.4.2\n",
            "5.24.1\n",
            "3.2.0\n"
          ]
        }
      ],
      "source": [
        "# install plotly and dash, if not yet already\n",
        "! pip install plotly dash\n",
        "\n",
        "import plotly, dash\n",
        "print(plotly.__version__)\n",
        "print(dash.__version__)"
      ]
    },
    {
      "cell_type": "markdown",
      "metadata": {
        "id": "5zOkHyQvpTV-"
      },
      "source": [
        "# Hello world\n",
        "Building and launching an app with Dash can be done with just 5 lines of code.\n",
        "Follow the tutorial (https://dash.plotly.com/tutorial) for more detail."
      ]
    },
    {
      "cell_type": "code",
      "execution_count": 3,
      "metadata": {
        "scrolled": true,
        "colab": {
          "base_uri": "https://localhost:8080/",
          "height": 671
        },
        "id": "2QkAUCBrpTV_",
        "outputId": "2890a365-90c8-45ea-dded-366a46295f3d"
      },
      "outputs": [
        {
          "output_type": "display_data",
          "data": {
            "text/plain": [
              "<IPython.core.display.Javascript object>"
            ],
            "application/javascript": [
              "(async (port, path, width, height, cache, element) => {\n",
              "    if (!google.colab.kernel.accessAllowed && !cache) {\n",
              "      return;\n",
              "    }\n",
              "    element.appendChild(document.createTextNode(''));\n",
              "    const url = await google.colab.kernel.proxyPort(port, {cache});\n",
              "    const iframe = document.createElement('iframe');\n",
              "    iframe.src = new URL(path, url).toString();\n",
              "    iframe.height = height;\n",
              "    iframe.width = width;\n",
              "    iframe.style.border = 0;\n",
              "    iframe.allow = [\n",
              "        'accelerometer',\n",
              "        'autoplay',\n",
              "        'camera',\n",
              "        'clipboard-read',\n",
              "        'clipboard-write',\n",
              "        'gyroscope',\n",
              "        'magnetometer',\n",
              "        'microphone',\n",
              "        'serial',\n",
              "        'usb',\n",
              "        'xr-spatial-tracking',\n",
              "    ].join('; ');\n",
              "    element.appendChild(iframe);\n",
              "  })(8050, \"/\", \"100%\", 650, false, window.element)"
            ]
          },
          "metadata": {}
        }
      ],
      "source": [
        "from dash import Dash, html\n",
        "\n",
        "\"\"\"\n",
        "Initialize the app.\n",
        "\n",
        "This line is known as the Dash constructor and is responsible for initializing your app.\n",
        "It is almost always the same for any Dash app you create.\n",
        "\"\"\"\n",
        "app = Dash()\n",
        "\n",
        "\n",
        "\"\"\"\n",
        "App layout.\n",
        "\n",
        "The app layout represents the app components that will be displayed in the web browser and\n",
        "here is provided as a list, though it could also be a Dash component.\n",
        "In this example, a single component was added to the list: an html.Div.\n",
        "The Div has a few properties, such as children, which we use to add text content to the page: \"Hello World\".\n",
        "\"\"\"\n",
        "app.layout = [\n",
        "    html.Div(children='Hello World'),\n",
        "    html.Div(children=f'Student: {student_first_last_name} (ID: {student_id})'),\n",
        "    #*** Question: Add another html.Div to show your name, and re-run the cell for output.\n",
        "    # ANSWER: Added html.Div with student name and ID\n",
        "]\n",
        "\n",
        "if __name__ == '__main__':\n",
        "    app.run(debug=True, jupyter_mode=\"inline\")"
      ]
    },
    {
      "cell_type": "markdown",
      "metadata": {
        "id": "kt631SKGpTV_"
      },
      "source": [
        "# Connecting to Data\n",
        "\n",
        "There are many ways to add data to an app: APIs, external databases, local .txt files, JSON files, and more. In this example, we will highlight one of the most common ways of incorporating data from a CSV sheet."
      ]
    },
    {
      "cell_type": "code",
      "execution_count": 5,
      "metadata": {
        "id": "NXNyagLopTV_",
        "colab": {
          "base_uri": "https://localhost:8080/",
          "height": 796
        },
        "outputId": "ba78c6a1-11e5-40d4-bbad-62b87dab4516"
      },
      "outputs": [
        {
          "output_type": "stream",
          "name": "stdout",
          "text": [
            "       country         pop continent  lifeExp     gdpPercap\n",
            "0  Afghanistan  31889923.0      Asia   43.828    974.580338\n",
            "1      Albania   3600523.0    Europe   76.423   5937.029526\n",
            "2      Algeria  33333216.0    Africa   72.301   6223.367465\n",
            "3       Angola  12420476.0    Africa   42.731   4797.231267\n",
            "4    Argentina  40301927.0  Americas   75.320  12779.379640\n",
            "Data rowsXcols: (142, 5)\n"
          ]
        },
        {
          "output_type": "display_data",
          "data": {
            "text/plain": [
              "<IPython.core.display.Javascript object>"
            ],
            "application/javascript": [
              "(async (port, path, width, height, cache, element) => {\n",
              "    if (!google.colab.kernel.accessAllowed && !cache) {\n",
              "      return;\n",
              "    }\n",
              "    element.appendChild(document.createTextNode(''));\n",
              "    const url = await google.colab.kernel.proxyPort(port, {cache});\n",
              "    const iframe = document.createElement('iframe');\n",
              "    iframe.src = new URL(path, url).toString();\n",
              "    iframe.height = height;\n",
              "    iframe.width = width;\n",
              "    iframe.style.border = 0;\n",
              "    iframe.allow = [\n",
              "        'accelerometer',\n",
              "        'autoplay',\n",
              "        'camera',\n",
              "        'clipboard-read',\n",
              "        'clipboard-write',\n",
              "        'gyroscope',\n",
              "        'magnetometer',\n",
              "        'microphone',\n",
              "        'serial',\n",
              "        'usb',\n",
              "        'xr-spatial-tracking',\n",
              "    ].join('; ');\n",
              "    element.appendChild(iframe);\n",
              "  })(8050, \"/\", \"100%\", 650, false, window.element)"
            ]
          },
          "metadata": {}
        }
      ],
      "source": [
        "# Import packages\n",
        "\n",
        "# We import the dash_table module to display the data inside a Dash DataTable.\n",
        "from dash import Dash, html, dash_table\n",
        "\n",
        "# We also import the pandas library to read the CSV sheet data.\n",
        "import pandas as pd\n",
        "\n",
        "# Incorporate data\n",
        "df = pd.read_csv('https://raw.githubusercontent.com/plotly/datasets/master/gapminder2007.csv')\n",
        "\n",
        "# Explore data\n",
        "print(df.head())\n",
        "print(\"Data rowsXcols:\", df.shape)\n",
        "\n",
        "# Initialize the app\n",
        "app = Dash()\n",
        "\n",
        "# App layout.\n",
        "# The 2nd item is a table with only 5 rows per page (changed from 10).\n",
        "app.layout = [\n",
        "    html.Div(children='My First App with Data'),\n",
        "    dash_table.DataTable(data=df.to_dict('records'), page_size=5)\n",
        "    #*** Question: Change page size and observe the change in widget controls\n",
        "    # such as, total number of pages.\n",
        "    # ANSWER: Changed page_size from 10 to 5. This reduces rows per page,\n",
        "    # increasing the total number of pages in pagination controls.\n",
        "]\n",
        "\n",
        "# Run the app\n",
        "if __name__ == '__main__':\n",
        "    app.run(debug=True, jupyter_mode=\"inline\")"
      ]
    },
    {
      "cell_type": "markdown",
      "metadata": {
        "id": "hTOqU99tpTV_"
      },
      "source": [
        "# Visualising data\n",
        "\n",
        "The Plotly graphing library has more than 50 chart types to choose from. In this example, we will make use of the histogram chart."
      ]
    },
    {
      "cell_type": "code",
      "execution_count": 7,
      "metadata": {
        "id": "5MQ55kXppTV_",
        "colab": {
          "base_uri": "https://localhost:8080/",
          "height": 796
        },
        "outputId": "65bf59a8-ad94-4374-d7ae-746afbcd865c"
      },
      "outputs": [
        {
          "output_type": "stream",
          "name": "stdout",
          "text": [
            "       country         pop continent  lifeExp     gdpPercap\n",
            "0  Afghanistan  31889923.0      Asia   43.828    974.580338\n",
            "1      Albania   3600523.0    Europe   76.423   5937.029526\n",
            "2      Algeria  33333216.0    Africa   72.301   6223.367465\n",
            "3       Angola  12420476.0    Africa   42.731   4797.231267\n",
            "4    Argentina  40301927.0  Americas   75.320  12779.379640\n",
            "Data rowsXcols: (142, 5)\n"
          ]
        },
        {
          "output_type": "display_data",
          "data": {
            "text/plain": [
              "<IPython.core.display.Javascript object>"
            ],
            "application/javascript": [
              "(async (port, path, width, height, cache, element) => {\n",
              "    if (!google.colab.kernel.accessAllowed && !cache) {\n",
              "      return;\n",
              "    }\n",
              "    element.appendChild(document.createTextNode(''));\n",
              "    const url = await google.colab.kernel.proxyPort(port, {cache});\n",
              "    const iframe = document.createElement('iframe');\n",
              "    iframe.src = new URL(path, url).toString();\n",
              "    iframe.height = height;\n",
              "    iframe.width = width;\n",
              "    iframe.style.border = 0;\n",
              "    iframe.allow = [\n",
              "        'accelerometer',\n",
              "        'autoplay',\n",
              "        'camera',\n",
              "        'clipboard-read',\n",
              "        'clipboard-write',\n",
              "        'gyroscope',\n",
              "        'magnetometer',\n",
              "        'microphone',\n",
              "        'serial',\n",
              "        'usb',\n",
              "        'xr-spatial-tracking',\n",
              "    ].join('; ');\n",
              "    element.appendChild(iframe);\n",
              "  })(8050, \"/\", \"100%\", 650, false, window.element)"
            ]
          },
          "metadata": {}
        }
      ],
      "source": [
        "# Import packages\n",
        "\n",
        "# We import the dcc module (DCC stands for Dash Core Components).\n",
        "# This module includes a Graph component called dcc.Graph, which is used to render interactive graphs.\n",
        "from dash import Dash, html, dash_table, dcc\n",
        "\n",
        "# We also import the plotly.express library to build the interactive graphs.\n",
        "import plotly.express as px\n",
        "\n",
        "import pandas as pd\n",
        "\n",
        "# Incorporate data\n",
        "df = pd.read_csv('https://raw.githubusercontent.com/plotly/datasets/master/gapminder2007.csv')\n",
        "\n",
        "# Explore data\n",
        "print(df.head())\n",
        "print(\"Data rowsXcols:\", df.shape)\n",
        "\n",
        "# Initialize the app\n",
        "app = Dash()\n",
        "\n",
        "# App layout\n",
        "# 3rd component is an interactive graph (interaction no shown this this example).\n",
        "#\n",
        "# Using the plotly.express library, we build the histogram chart\n",
        "# and assign it to the figure property of the dcc.Graph. This displays the histogram in our app.\n",
        "#\n",
        "app.layout = [\n",
        "    html.Div(children='My First App with Data and a Graph'),\n",
        "    dash_table.DataTable(data=df.to_dict('records'), page_size=10),\n",
        "    dcc.Graph(figure=px.histogram(df, x='continent', y='lifeExp', histfunc='sum'))\n",
        "    #*** Question: Explore another histfunc other than 'avg' used above and observe behaviour.\n",
        "    # ANSWER: Changed histfunc from 'avg' to 'sum'. This shows the total life expectancy\n",
        "    # per continent instead of the average, resulting in much higher values.\n",
        "]\n",
        "\n",
        "# Run the app\n",
        "if __name__ == '__main__':\n",
        "    app.run(debug=True, jupyter_mode=\"inline\")"
      ]
    },
    {
      "cell_type": "markdown",
      "metadata": {
        "id": "SA5OtBUqpTWA"
      },
      "source": [
        "# Controls and Callbacks\n",
        "\n",
        "So far you have built a static app that displays tabular data and a graph. However, as you develop more sophisticated Dash apps, you will likely want to give the app user more freedom to interact with the app and explore the data in greater depth. To achieve that, you will need to add controls to the app by using the callback function.\n",
        "\n",
        "In this example we will add radio buttons to the app layout. Then, we will build the callback to create the interaction between the radio buttons and the histogram chart."
      ]
    },
    {
      "cell_type": "code",
      "execution_count": 9,
      "metadata": {
        "id": "oCsMH33QpTWA",
        "colab": {
          "base_uri": "https://localhost:8080/",
          "height": 671
        },
        "outputId": "31c7ced0-7bdc-4f61-e4bb-3a7f86bc7b37"
      },
      "outputs": [
        {
          "output_type": "display_data",
          "data": {
            "text/plain": [
              "<IPython.core.display.Javascript object>"
            ],
            "application/javascript": [
              "(async (port, path, width, height, cache, element) => {\n",
              "    if (!google.colab.kernel.accessAllowed && !cache) {\n",
              "      return;\n",
              "    }\n",
              "    element.appendChild(document.createTextNode(''));\n",
              "    const url = await google.colab.kernel.proxyPort(port, {cache});\n",
              "    const iframe = document.createElement('iframe');\n",
              "    iframe.src = new URL(path, url).toString();\n",
              "    iframe.height = height;\n",
              "    iframe.width = width;\n",
              "    iframe.style.border = 0;\n",
              "    iframe.allow = [\n",
              "        'accelerometer',\n",
              "        'autoplay',\n",
              "        'camera',\n",
              "        'clipboard-read',\n",
              "        'clipboard-write',\n",
              "        'gyroscope',\n",
              "        'magnetometer',\n",
              "        'microphone',\n",
              "        'serial',\n",
              "        'usb',\n",
              "        'xr-spatial-tracking',\n",
              "    ].join('; ');\n",
              "    element.appendChild(iframe);\n",
              "  })(8050, \"/\", \"100%\", 650, false, window.element)"
            ]
          },
          "metadata": {}
        }
      ],
      "source": [
        "# Import packages\n",
        "\n",
        "# We import dcc like we did in the previous section to use dcc.Graph.\n",
        "# In this example, we need dcc for dcc.Graph as well as the radio buttons component, dcc.RadioItems.\n",
        "#\n",
        "# To work with the callback in a Dash app, we import the callback module and the two arguments\n",
        "# commonly used within the callback: Output and Input.\n",
        "#\n",
        "from dash import Dash, html, dash_table, dcc, callback, Output, Input\n",
        "import pandas as pd\n",
        "import plotly.express as px\n",
        "\n",
        "# Incorporate data\n",
        "df = pd.read_csv('https://raw.githubusercontent.com/plotly/datasets/master/gapminder2007.csv')\n",
        "\n",
        "# Initialize the app\n",
        "app = Dash()\n",
        "\n",
        "# App layout\n",
        "app.layout = [\n",
        "    html.Div(children='My First App with Data, Graph, and Controls'),\n",
        "    html.Hr(),\n",
        "    dcc.RadioItems(options=['pop', 'lifeExp', 'gdpPercap'], value='lifeExp', id='controls-and-radio-item'),\n",
        "    dash_table.DataTable(data=df.to_dict('records'), page_size=6),\n",
        "    dcc.Graph(figure={}, id='controls-and-graph')\n",
        "    #*** Question: Use line graphs instead of histogram.\n",
        "    # ANSWER: Modified callback to use px.line instead of px.histogram\n",
        "]\n",
        "\n",
        "#\n",
        "# Notice that we add that RadioItems component to the layout, directly above the DataTable.\n",
        "# There are three options, one for every radio button.\n",
        "# The lifeExp option is assigned to the value property, making it the currently selected value.\n",
        "#\n",
        "# Both the RadioItems and the Graph components were given id names: these will be used by\n",
        "# the callback to identify the components.\n",
        "#\n",
        "# The inputs and outputs of our app are the properties of a particular component.\n",
        "# In this example, our input is the value property of the component that has the ID \"controls-and-radio-item\".\n",
        "# If you look back at the layout, you will see that this is currently lifeExp.\n",
        "# Our output is the figure property of the component with the ID \"controls-and-graph\", which\n",
        "# is currently an empty dictionary (empty graph).\n",
        "#\n",
        "# The callback function's argument col_chosen refers to the component property of the input lifeExp.\n",
        "# We build the histogram chart inside the callback function, assigning the chosen radio item to the\n",
        "# y-axis attribute of the histogram. This means that every time the user selects a new radio item,\n",
        "# the figure is rebuilt and the y-axis of the figure is updated.\n",
        "#\n",
        "# Finally, we return the histogram at the end of the function. This assigns the histogram to the figure\n",
        "# property of the dcc.Graph, thus displaying the figure in the app.\n",
        "#\n",
        "\n",
        "# Add controls to build the interaction\n",
        "@callback(\n",
        "    Output(component_id='controls-and-graph', component_property='figure'),\n",
        "    Input(component_id='controls-and-radio-item', component_property='value')\n",
        ")\n",
        "def update_graph(col_chosen):\n",
        "    # Changed from histogram to line graph\n",
        "    fig = px.line(df, x='continent', y=col_chosen, title=f'Line Graph: {col_chosen} by Continent')\n",
        "    return fig\n",
        "\n",
        "# Run the app\n",
        "if __name__ == '__main__':\n",
        "    app.run(debug=True, jupyter_mode=\"inline\")"
      ]
    },
    {
      "cell_type": "markdown",
      "metadata": {
        "id": "2a0bf64d"
      },
      "source": [
        "**SENSOR MONITORING DASHBOARD WITH PLOTLY DASH:**\n",
        "\n",
        "For a sensor monitoring dashboard using Plotly Dash, real-time data visualization will be crucial. This can be achieved using `dcc.Graph` components to display live sensor data, such as temperature and humidity from a DHT22 sensor. Time-series line charts can show sensor readings over time, and scatter plots can illustrate correlations between different sensors. Interactive controls are also essential for user interaction. Radio buttons can allow switching between different sensors (like DHT22, accelerometer, and gyroscope), while a date range picker can select specific time periods for analysis. Dropdown menus can be used to choose different data aggregation methods (average, minimum, maximum, sum), and slider controls can adjust sampling rates or data filtering thresholds. To display raw data and summaries, `dash_table.DataTable` can be used with pagination. This table can also show statistical summaries (mean, standard deviation, minimum, maximum) for each sensor and enable data export functionality. A variety of chart types can be incorporated for different analyses: histograms for distribution, box plots for data spread and outliers, heatmaps for spatial data (if applicable), and gauge charts for real-time status. An alert system can be built using callbacks to monitor sensor thresholds, triggering alerts and color-coding charts based on predefined zones. Finally, the dashboard layout can be organized using `html.Div` and CSS for a grid structure, with tabs for different sensor types or monitoring periods. Refresh buttons can update data in real-time, and data upload functionality can be included for historical analysis. This comprehensive approach will create an interactive dashboard for monitoring multiple sensors, analyzing patterns, identifying anomalies, and customizing views."
      ]
    }
  ],
  "metadata": {
    "kernelspec": {
      "display_name": "banana",
      "language": "python",
      "name": "python3"
    },
    "language_info": {
      "codemirror_mode": {
        "name": "ipython",
        "version": 3
      },
      "file_extension": ".py",
      "mimetype": "text/x-python",
      "name": "python",
      "nbconvert_exporter": "python",
      "pygments_lexer": "ipython3",
      "version": "3.11.9"
    },
    "colab": {
      "provenance": []
    }
  },
  "nbformat": 4,
  "nbformat_minor": 0
}