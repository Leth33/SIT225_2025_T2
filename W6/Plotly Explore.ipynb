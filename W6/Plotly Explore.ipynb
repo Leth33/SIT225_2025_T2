{
 "cells": [
  {
   "cell_type": "code",
   "execution_count": 1,
   "metadata": {},
   "outputs": [
    {
     "name": "stdout",
     "output_type": "stream",
     "text": [
      "224712709 Barbara Calma\n"
     ]
    }
   ],
   "source": [
    "# Fill in student ID and name\n",
    "# \n",
    "student_id = \"224712709\"  # Replace with your actual student ID\n",
    "student_first_last_name = \"Barbara Calma\"  # Replace with your actual name\n",
    "print(student_id, student_first_last_name)"
   ]
  },
  {
   "cell_type": "code",
   "execution_count": 2,
   "metadata": {},
   "outputs": [
    {
     "name": "stdout",
     "output_type": "stream",
     "text": [
      "Requirement already satisfied: plotly in /Users/supertaro/.virtualenvs/banana/lib/python3.11/site-packages (6.3.0)\n",
      "Collecting dash\n",
      "  Downloading dash-3.2.0-py3-none-any.whl.metadata (10 kB)\n",
      "Requirement already satisfied: narwhals>=1.15.1 in /Users/supertaro/.virtualenvs/banana/lib/python3.11/site-packages (from plotly) (2.1.2)\n",
      "Requirement already satisfied: packaging in /Users/supertaro/.virtualenvs/banana/lib/python3.11/site-packages (from plotly) (25.0)\n",
      "Collecting Flask<3.2,>=1.0.4 (from dash)\n",
      "  Downloading flask-3.1.2-py3-none-any.whl.metadata (3.2 kB)\n",
      "Requirement already satisfied: Werkzeug<3.2 in /Users/supertaro/.virtualenvs/banana/lib/python3.11/site-packages (from dash) (3.1.3)\n",
      "Collecting importlib-metadata (from dash)\n",
      "  Using cached importlib_metadata-8.7.0-py3-none-any.whl.metadata (4.8 kB)\n",
      "Requirement already satisfied: typing-extensions>=4.1.1 in /Users/supertaro/.virtualenvs/banana/lib/python3.11/site-packages (from dash) (4.14.1)\n",
      "Requirement already satisfied: requests in /Users/supertaro/.virtualenvs/banana/lib/python3.11/site-packages (from dash) (2.32.5)\n",
      "Collecting retrying (from dash)\n",
      "  Using cached retrying-1.4.2-py3-none-any.whl.metadata (5.5 kB)\n",
      "Requirement already satisfied: nest-asyncio in /Users/supertaro/.virtualenvs/banana/lib/python3.11/site-packages (from dash) (1.6.0)\n",
      "Requirement already satisfied: setuptools in /Users/supertaro/.virtualenvs/banana/lib/python3.11/site-packages (from dash) (80.9.0)\n",
      "Collecting blinker>=1.9.0 (from Flask<3.2,>=1.0.4->dash)\n",
      "  Using cached blinker-1.9.0-py3-none-any.whl.metadata (1.6 kB)\n",
      "Collecting click>=8.1.3 (from Flask<3.2,>=1.0.4->dash)\n",
      "  Using cached click-8.2.1-py3-none-any.whl.metadata (2.5 kB)\n",
      "Collecting itsdangerous>=2.2.0 (from Flask<3.2,>=1.0.4->dash)\n",
      "  Using cached itsdangerous-2.2.0-py3-none-any.whl.metadata (1.9 kB)\n",
      "Requirement already satisfied: jinja2>=3.1.2 in /Users/supertaro/.virtualenvs/banana/lib/python3.11/site-packages (from Flask<3.2,>=1.0.4->dash) (3.1.6)\n",
      "Requirement already satisfied: markupsafe>=2.1.1 in /Users/supertaro/.virtualenvs/banana/lib/python3.11/site-packages (from Flask<3.2,>=1.0.4->dash) (3.0.2)\n",
      "Collecting zipp>=3.20 (from importlib-metadata->dash)\n",
      "  Using cached zipp-3.23.0-py3-none-any.whl.metadata (3.6 kB)\n",
      "Requirement already satisfied: charset_normalizer<4,>=2 in /Users/supertaro/.virtualenvs/banana/lib/python3.11/site-packages (from requests->dash) (3.4.3)\n",
      "Requirement already satisfied: idna<4,>=2.5 in /Users/supertaro/.virtualenvs/banana/lib/python3.11/site-packages (from requests->dash) (3.10)\n",
      "Requirement already satisfied: urllib3<3,>=1.21.1 in /Users/supertaro/.virtualenvs/banana/lib/python3.11/site-packages (from requests->dash) (2.5.0)\n",
      "Requirement already satisfied: certifi>=2017.4.17 in /Users/supertaro/.virtualenvs/banana/lib/python3.11/site-packages (from requests->dash) (2025.8.3)\n",
      "Downloading dash-3.2.0-py3-none-any.whl (7.9 MB)\n",
      "\u001b[2K   \u001b[90m━━━━━━━━━━━━━━━━━━━━━━━━━━━━━━━━━━━━━━━━\u001b[0m \u001b[32m7.9/7.9 MB\u001b[0m \u001b[31m39.1 MB/s\u001b[0m  \u001b[33m0:00:00\u001b[0mm0:00:01\u001b[0m\n",
      "\u001b[?25hDownloading flask-3.1.2-py3-none-any.whl (103 kB)\n",
      "Using cached blinker-1.9.0-py3-none-any.whl (8.5 kB)\n",
      "Using cached click-8.2.1-py3-none-any.whl (102 kB)\n",
      "Using cached itsdangerous-2.2.0-py3-none-any.whl (16 kB)\n",
      "Using cached importlib_metadata-8.7.0-py3-none-any.whl (27 kB)\n",
      "Using cached zipp-3.23.0-py3-none-any.whl (10 kB)\n",
      "Using cached retrying-1.4.2-py3-none-any.whl (10 kB)\n",
      "Installing collected packages: zipp, retrying, itsdangerous, click, blinker, importlib-metadata, Flask, dash\n",
      "\u001b[2K   \u001b[90m━━━━━━━━━━━━━━━━━━━━━━━━━━━━━━━━━━━━━━━━\u001b[0m \u001b[32m8/8\u001b[0m [dash][32m7/8\u001b[0m [dash]\n",
      "\u001b[1A\u001b[2KSuccessfully installed Flask-3.1.2 blinker-1.9.0 click-8.2.1 dash-3.2.0 importlib-metadata-8.7.0 itsdangerous-2.2.0 retrying-1.4.2 zipp-3.23.0\n",
      "6.3.0\n",
      "3.2.0\n"
     ]
    }
   ],
   "source": [
    "# install plotly and dash, if not yet already\n",
    "! pip install plotly dash\n",
    "\n",
    "import plotly, dash\n",
    "print(plotly.__version__)\n",
    "print(dash.__version__)"
   ]
  },
  {
   "cell_type": "markdown",
   "metadata": {},
   "source": [
    "# Hello world\n",
    "Building and launching an app with Dash can be done with just 5 lines of code.\n",
    "Follow the tutorial (https://dash.plotly.com/tutorial) for more detail."
   ]
  },
  {
   "cell_type": "code",
   "execution_count": 3,
   "metadata": {
    "scrolled": true
   },
   "outputs": [
    {
     "name": "stderr",
     "output_type": "stream",
     "text": [
      "Address already in use\n",
      "Port 8050 is in use by another program. Either identify and stop that program, or start the server with a different port.\n"
     ]
    },
    {
     "ename": "SystemExit",
     "evalue": "1",
     "output_type": "error",
     "traceback": [
      "An exception has occurred, use %tb to see the full traceback.\n",
      "\u001b[31mSystemExit\u001b[39m\u001b[31m:\u001b[39m 1\n"
     ]
    },
    {
     "name": "stderr",
     "output_type": "stream",
     "text": [
      "/Users/supertaro/.virtualenvs/banana/lib/python3.11/site-packages/IPython/core/interactiveshell.py:3707: UserWarning:\n",
      "\n",
      "To exit: use 'exit', 'quit', or Ctrl-D.\n",
      "\n"
     ]
    }
   ],
   "source": [
    "from dash import Dash, html\n",
    "\n",
    "\"\"\"\n",
    "Initialize the app.\n",
    " \n",
    "This line is known as the Dash constructor and is responsible for initializing your app. \n",
    "It is almost always the same for any Dash app you create.\n",
    "\"\"\" \n",
    "app = Dash()\n",
    "\n",
    "\n",
    "\"\"\"\n",
    "App layout.\n",
    "\n",
    "The app layout represents the app components that will be displayed in the web browser and \n",
    "here is provided as a list, though it could also be a Dash component. \n",
    "In this example, a single component was added to the list: an html.Div. \n",
    "The Div has a few properties, such as children, which we use to add text content to the page: \"Hello World\".\n",
    "\"\"\"\n",
    "app.layout = [\n",
    "    html.Div(children='Hello World'),\n",
    "    html.Div(children=f'Student: {student_first_last_name} (ID: {student_id})'),\n",
    "    #*** Question: Add another html.Div to show your name, and re-run the cell for output.\n",
    "    # ANSWER: Added html.Div with student name and ID\n",
    "]\n",
    "\n",
    "if __name__ == '__main__':\n",
    "    app.run(debug=True, jupyter_mode=\"tab\")"
   ]
  },
  {
   "cell_type": "markdown",
   "metadata": {},
   "source": [
    "# Connecting to Data\n",
    "\n",
    "There are many ways to add data to an app: APIs, external databases, local .txt files, JSON files, and more. In this example, we will highlight one of the most common ways of incorporating data from a CSV sheet."
   ]
  },
  {
   "cell_type": "code",
   "execution_count": null,
   "metadata": {},
   "outputs": [],
   "source": [
    "# Import packages\n",
    "\n",
    "# We import the dash_table module to display the data inside a Dash DataTable.\n",
    "from dash import Dash, html, dash_table\n",
    "\n",
    "# We also import the pandas library to read the CSV sheet data.\n",
    "import pandas as pd\n",
    "\n",
    "# Incorporate data\n",
    "df = pd.read_csv('https://raw.githubusercontent.com/plotly/datasets/master/gapminder2007.csv')\n",
    "\n",
    "# Explore data\n",
    "print(df.head())\n",
    "print(\"Data rowsXcols:\", df.shape)\n",
    "\n",
    "# Initialize the app\n",
    "app = Dash()\n",
    "\n",
    "# App layout. \n",
    "# The 2nd item is a table with only 5 rows per page (changed from 10).\n",
    "app.layout = [\n",
    "    html.Div(children='My First App with Data'),\n",
    "    dash_table.DataTable(data=df.to_dict('records'), page_size=5)\n",
    "    #*** Question: Change page size and observe the change in widget controls\n",
    "    # such as, total number of pages.\n",
    "    # ANSWER: Changed page_size from 10 to 5. This reduces rows per page,\n",
    "    # increasing the total number of pages in pagination controls.\n",
    "]\n",
    "\n",
    "# Run the app\n",
    "if __name__ == '__main__':\n",
    "    app.run(debug=True, jupyter_mode=\"tab\")"
   ]
  },
  {
   "cell_type": "markdown",
   "metadata": {},
   "source": [
    "# Visualising data\n",
    "\n",
    "The Plotly graphing library has more than 50 chart types to choose from. In this example, we will make use of the histogram chart."
   ]
  },
  {
   "cell_type": "code",
   "execution_count": null,
   "metadata": {},
   "outputs": [],
   "source": [
    "# Import packages\n",
    "\n",
    "# We import the dcc module (DCC stands for Dash Core Components). \n",
    "# This module includes a Graph component called dcc.Graph, which is used to render interactive graphs.\n",
    "from dash import Dash, html, dash_table, dcc\n",
    "\n",
    "# We also import the plotly.express library to build the interactive graphs.\n",
    "import plotly.express as px\n",
    "\n",
    "import pandas as pd\n",
    "\n",
    "# Incorporate data\n",
    "df = pd.read_csv('https://raw.githubusercontent.com/plotly/datasets/master/gapminder2007.csv')\n",
    "\n",
    "# Explore data\n",
    "print(df.head())\n",
    "print(\"Data rowsXcols:\", df.shape)\n",
    "\n",
    "# Initialize the app\n",
    "app = Dash()\n",
    "\n",
    "# App layout\n",
    "# 3rd component is an interactive graph (interaction no shown this this example).\n",
    "# \n",
    "# Using the plotly.express library, we build the histogram chart \n",
    "# and assign it to the figure property of the dcc.Graph. This displays the histogram in our app.\n",
    "# \n",
    "app.layout = [\n",
    "    html.Div(children='My First App with Data and a Graph'),\n",
    "    dash_table.DataTable(data=df.to_dict('records'), page_size=10),\n",
    "    dcc.Graph(figure=px.histogram(df, x='continent', y='lifeExp', histfunc='sum'))\n",
    "    #*** Question: Explore another histfunc other than 'avg' used above and observe behaviour.\n",
    "    # ANSWER: Changed histfunc from 'avg' to 'sum'. This shows the total life expectancy\n",
    "    # per continent instead of the average, resulting in much higher values.\n",
    "]\n",
    "\n",
    "# Run the app\n",
    "if __name__ == '__main__':\n",
    "    app.run(debug=True, jupyter_mode=\"tab\")"
   ]
  },
  {
   "cell_type": "markdown",
   "metadata": {},
   "source": [
    "# Controls and Callbacks\n",
    "\n",
    "So far you have built a static app that displays tabular data and a graph. However, as you develop more sophisticated Dash apps, you will likely want to give the app user more freedom to interact with the app and explore the data in greater depth. To achieve that, you will need to add controls to the app by using the callback function.\n",
    "\n",
    "In this example we will add radio buttons to the app layout. Then, we will build the callback to create the interaction between the radio buttons and the histogram chart."
   ]
  },
  {
   "cell_type": "code",
   "execution_count": null,
   "metadata": {},
   "outputs": [],
   "source": [
    "# Import packages\n",
    "\n",
    "# We import dcc like we did in the previous section to use dcc.Graph. \n",
    "# In this example, we need dcc for dcc.Graph as well as the radio buttons component, dcc.RadioItems.\n",
    "# \n",
    "# To work with the callback in a Dash app, we import the callback module and the two arguments \n",
    "# commonly used within the callback: Output and Input.\n",
    "# \n",
    "from dash import Dash, html, dash_table, dcc, callback, Output, Input\n",
    "import pandas as pd\n",
    "import plotly.express as px\n",
    "\n",
    "# Incorporate data\n",
    "df = pd.read_csv('https://raw.githubusercontent.com/plotly/datasets/master/gapminder2007.csv')\n",
    "\n",
    "# Initialize the app\n",
    "app = Dash()\n",
    "\n",
    "# App layout\n",
    "app.layout = [\n",
    "    html.Div(children='My First App with Data, Graph, and Controls'),\n",
    "    html.Hr(),\n",
    "    dcc.RadioItems(options=['pop', 'lifeExp', 'gdpPercap'], value='lifeExp', id='controls-and-radio-item'),\n",
    "    dash_table.DataTable(data=df.to_dict('records'), page_size=6),\n",
    "    dcc.Graph(figure={}, id='controls-and-graph')\n",
    "    #*** Question: Use line graphs instead of histogram.\n",
    "    # ANSWER: Modified callback to use px.line instead of px.histogram\n",
    "]\n",
    "\n",
    "# \n",
    "# Notice that we add that RadioItems component to the layout, directly above the DataTable. \n",
    "# There are three options, one for every radio button. \n",
    "# The lifeExp option is assigned to the value property, making it the currently selected value.\n",
    "# \n",
    "# Both the RadioItems and the Graph components were given id names: these will be used by \n",
    "# the callback to identify the components.\n",
    "# \n",
    "# The inputs and outputs of our app are the properties of a particular component. \n",
    "# In this example, our input is the value property of the component that has the ID \"controls-and-radio-item\". \n",
    "# If you look back at the layout, you will see that this is currently lifeExp. \n",
    "# Our output is the figure property of the component with the ID \"controls-and-graph\", which \n",
    "# is currently an empty dictionary (empty graph).\n",
    "# \n",
    "# The callback function's argument col_chosen refers to the component property of the input lifeExp. \n",
    "# We build the histogram chart inside the callback function, assigning the chosen radio item to the \n",
    "# y-axis attribute of the histogram. This means that every time the user selects a new radio item, \n",
    "# the figure is rebuilt and the y-axis of the figure is updated.\n",
    "# \n",
    "# Finally, we return the histogram at the end of the function. This assigns the histogram to the figure \n",
    "# property of the dcc.Graph, thus displaying the figure in the app.\n",
    "# \n",
    "\n",
    "# Add controls to build the interaction\n",
    "@callback(\n",
    "    Output(component_id='controls-and-graph', component_property='figure'),\n",
    "    Input(component_id='controls-and-radio-item', component_property='value')\n",
    ")\n",
    "def update_graph(col_chosen):\n",
    "    # Changed from histogram to line graph\n",
    "    fig = px.line(df, x='continent', y=col_chosen, title=f'Line Graph: {col_chosen} by Continent')\n",
    "    return fig\n",
    "\n",
    "# Run the app\n",
    "if __name__ == '__main__':\n",
    "    app.run(debug=True, jupyter_mode=\"tab\")"
   ]
  },
  {
   "cell_type": "markdown",
   "metadata": {},
   "source": [
    "# Question: Describe Usage\n",
    "\n",
    "Based on what you've learned about using Plotly Dash for visualizing data, describe how you will use this tool for your desired sensor monitoring dashboard with various sensors, including DHT22 or accelerometer data."
   ]
  },
  {
   "cell_type": "code",
   "execution_count": null,
   "metadata": {},
   "outputs": [],
   "source": [
    "# ANSWER: How I will use Plotly Dash for sensor monitoring dashboard\n",
    "\n",
    "print(\"\"\"\n",
    "SENSOR MONITORING DASHBOARD WITH PLOTLY DASH:\n",
    "\n",
    "1. REAL-TIME DATA VISUALIZATION:\n",
    "   - Use dcc.Graph components to display live sensor data from DHT22 (temperature/humidity)\n",
    "   - Create time-series line charts showing sensor readings over time\n",
    "   - Add scatter plots to show correlations between different sensors\n",
    "\n",
    "2. INTERACTIVE CONTROLS:\n",
    "   - Radio buttons to switch between different sensors (DHT22, accelerometer, gyroscope)\n",
    "   - Date range picker to select specific time periods for analysis\n",
    "   - Dropdown menus to choose different data aggregation methods (avg, min, max, sum)\n",
    "   - Slider controls to adjust sampling rates or data filtering thresholds\n",
    "\n",
    "3. DATA TABLES:\n",
    "   - Use dash_table.DataTable to display raw sensor readings with pagination\n",
    "   - Show statistical summaries (mean, std, min, max) for each sensor\n",
    "   - Enable data export functionality for further analysis\n",
    "\n",
    "4. MULTIPLE CHART TYPES:\n",
    "   - Histograms for distribution analysis of sensor values\n",
    "   - Box plots to show data spread and outliers\n",
    "   - Heatmaps for spatial data visualization (if using multiple sensor locations)\n",
    "   - Gauge charts for real-time sensor status monitoring\n",
    "\n",
    "5. ALERT SYSTEM:\n",
    "   - Use callbacks to monitor sensor thresholds and trigger alerts\n",
    "   - Color-code charts based on normal/warning/danger zones\n",
    "   - Display alert messages when sensors exceed predefined limits\n",
    "\n",
    "6. DASHBOARD LAYOUT:\n",
    "   - Organize multiple charts in a grid layout using html.Div and CSS\n",
    "   - Create tabs for different sensor types or monitoring periods\n",
    "   - Add refresh buttons to update data in real-time\n",
    "   - Include data upload functionality for historical data analysis\n",
    "\n",
    "This approach will create a comprehensive, interactive dashboard that allows users to:\n",
    "- Monitor multiple sensors simultaneously\n",
    "- Analyze data patterns and trends\n",
    "- Identify anomalies and alert conditions\n",
    "- Export data for further analysis\n",
    "- Customize views based on their specific monitoring needs\n",
    "\"\"\")"
   ]
  },
  {
   "cell_type": "markdown",
   "metadata": {},
   "source": [
    "# Submission\n",
    "\n",
    "Convert this Notebook to PDF and merge it with the activity sheet PDF for submission with this week's OnTrack task."
   ]
  }
 ],
 "metadata": {
  "kernelspec": {
   "display_name": "banana",
   "language": "python",
   "name": "python3"
  },
  "language_info": {
   "codemirror_mode": {
    "name": "ipython",
    "version": 3
   },
   "file_extension": ".py",
   "mimetype": "text/x-python",
   "name": "python",
   "nbconvert_exporter": "python",
   "pygments_lexer": "ipython3",
   "version": "3.11.9"
  }
 },
 "nbformat": 4,
 "nbformat_minor": 4
}
